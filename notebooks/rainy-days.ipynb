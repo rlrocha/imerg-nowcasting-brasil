{
 "cells": [
  {
   "cell_type": "markdown",
   "metadata": {},
   "source": [
    "# Dias Chuvosos"
   ]
  },
  {
   "cell_type": "markdown",
   "metadata": {},
   "source": [
    "## Bibliotecas"
   ]
  },
  {
   "cell_type": "code",
   "execution_count": 10,
   "metadata": {},
   "outputs": [],
   "source": [
    "import sys\n",
    "sys.path.append('../src/') # Add src to path"
   ]
  },
  {
   "cell_type": "code",
   "execution_count": 43,
   "metadata": {},
   "outputs": [],
   "source": [
    "import numpy as np\n",
    "import pandas as pd\n",
    "from glob import glob"
   ]
  },
  {
   "cell_type": "code",
   "execution_count": 38,
   "metadata": {},
   "outputs": [],
   "source": [
    "from data.inmet import get_hour, get_timestamp, get_rainy_days"
   ]
  },
  {
   "cell_type": "markdown",
   "metadata": {},
   "source": [
    "## Exemplo de dia chuvoso"
   ]
  },
  {
   "cell_type": "code",
   "execution_count": 53,
   "metadata": {},
   "outputs": [
    {
     "name": "stdout",
     "output_type": "stream",
     "text": [
      "Número de estações da região sul: 95\n"
     ]
    },
    {
     "data": {
      "text/plain": [
       "['../data/inmet\\\\INMET_S_PR_A807_CURITIBA_01-01-2023_A_30-11-2023.CSV',\n",
       " '../data/inmet\\\\INMET_S_PR_A818_IVAI_01-01-2023_A_30-11-2023.CSV',\n",
       " '../data/inmet\\\\INMET_S_PR_A819_CASTRO_01-01-2023_A_30-11-2023.CSV',\n",
       " '../data/inmet\\\\INMET_S_PR_A820_MAL. CANDIDO RONDON_01-01-2023_A_30-11-2023.CSV',\n",
       " '../data/inmet\\\\INMET_S_PR_A821_JOAQUIM TAVORA_01-01-2023_A_30-11-2023.CSV']"
      ]
     },
     "metadata": {},
     "output_type": "display_data"
    }
   ],
   "source": [
    "data_dir = '../data/inmet'\n",
    "\n",
    "csv_list = sorted(glob(f'{data_dir}/*.csv'))\n",
    "\n",
    "print(f\"Número de estações da região sul: {len(csv_list)}\")\n",
    "display(csv_list[0:5])"
   ]
  },
  {
   "cell_type": "code",
   "execution_count": 29,
   "metadata": {},
   "outputs": [
    {
     "data": {
      "text/html": [
       "<div>\n",
       "<style scoped>\n",
       "    .dataframe tbody tr th:only-of-type {\n",
       "        vertical-align: middle;\n",
       "    }\n",
       "\n",
       "    .dataframe tbody tr th {\n",
       "        vertical-align: top;\n",
       "    }\n",
       "\n",
       "    .dataframe thead th {\n",
       "        text-align: right;\n",
       "    }\n",
       "</style>\n",
       "<table border=\"1\" class=\"dataframe\">\n",
       "  <thead>\n",
       "    <tr style=\"text-align: right;\">\n",
       "      <th></th>\n",
       "      <th>Data</th>\n",
       "      <th>Hora UTC</th>\n",
       "      <th>PRECIPITAÇÃO TOTAL, HORÁRIO (mm)</th>\n",
       "    </tr>\n",
       "  </thead>\n",
       "  <tbody>\n",
       "    <tr>\n",
       "      <th>0</th>\n",
       "      <td>2023-01-01</td>\n",
       "      <td>0000 UTC</td>\n",
       "      <td>0.0</td>\n",
       "    </tr>\n",
       "    <tr>\n",
       "      <th>1</th>\n",
       "      <td>2023-01-01</td>\n",
       "      <td>0100 UTC</td>\n",
       "      <td>0.0</td>\n",
       "    </tr>\n",
       "    <tr>\n",
       "      <th>2</th>\n",
       "      <td>2023-01-01</td>\n",
       "      <td>0200 UTC</td>\n",
       "      <td>0.0</td>\n",
       "    </tr>\n",
       "    <tr>\n",
       "      <th>3</th>\n",
       "      <td>2023-01-01</td>\n",
       "      <td>0300 UTC</td>\n",
       "      <td>0.0</td>\n",
       "    </tr>\n",
       "    <tr>\n",
       "      <th>4</th>\n",
       "      <td>2023-01-01</td>\n",
       "      <td>0400 UTC</td>\n",
       "      <td>0.0</td>\n",
       "    </tr>\n",
       "  </tbody>\n",
       "</table>\n",
       "</div>"
      ],
      "text/plain": [
       "        Data  Hora UTC  PRECIPITAÇÃO TOTAL, HORÁRIO (mm)\n",
       "0 2023-01-01  0000 UTC                               0.0\n",
       "1 2023-01-01  0100 UTC                               0.0\n",
       "2 2023-01-01  0200 UTC                               0.0\n",
       "3 2023-01-01  0300 UTC                               0.0\n",
       "4 2023-01-01  0400 UTC                               0.0"
      ]
     },
     "execution_count": 29,
     "metadata": {},
     "output_type": "execute_result"
    }
   ],
   "source": [
    "estacao = csv_list[0] # Estação A807 - Curitiba\n",
    "\n",
    "df = pd.read_csv(estacao,\n",
    "                 encoding='iso-8859-1',\n",
    "                 decimal=',',\n",
    "                 delimiter=';',\n",
    "                 skiprows=8,\n",
    "                 usecols=['Data', 'Hora UTC', 'PRECIPITAÇÃO TOTAL, HORÁRIO (mm)'],\n",
    "                 parse_dates=['Data'])\n",
    "\n",
    "df.head()"
   ]
  },
  {
   "cell_type": "code",
   "execution_count": 30,
   "metadata": {},
   "outputs": [],
   "source": [
    "df['Data'] = df['Data'].astype(str)\n",
    "df.rename(columns={\"PRECIPITAÇÃO TOTAL, HORÁRIO (mm)\": \"precipitacao\"}, inplace=True)\n",
    "\n",
    "df['Hora'] = df['Hora UTC'].apply(get_hour)\n",
    "\n",
    "df['timestamp'] = df[['Data', 'Hora']].apply(lambda x: get_timestamp(*x), axis=1)\n",
    "\n",
    "df['timestamp'] = pd.to_datetime(df['timestamp'])"
   ]
  },
  {
   "cell_type": "code",
   "execution_count": 45,
   "metadata": {},
   "outputs": [
    {
     "data": {
      "text/html": [
       "<div>\n",
       "<style scoped>\n",
       "    .dataframe tbody tr th:only-of-type {\n",
       "        vertical-align: middle;\n",
       "    }\n",
       "\n",
       "    .dataframe tbody tr th {\n",
       "        vertical-align: top;\n",
       "    }\n",
       "\n",
       "    .dataframe thead th {\n",
       "        text-align: right;\n",
       "    }\n",
       "</style>\n",
       "<table border=\"1\" class=\"dataframe\">\n",
       "  <thead>\n",
       "    <tr style=\"text-align: right;\">\n",
       "      <th></th>\n",
       "      <th>timestamp</th>\n",
       "      <th>precipitacao</th>\n",
       "    </tr>\n",
       "  </thead>\n",
       "  <tbody>\n",
       "    <tr>\n",
       "      <th>1</th>\n",
       "      <td>2023-10-29</td>\n",
       "      <td>63.2</td>\n",
       "    </tr>\n",
       "    <tr>\n",
       "      <th>2</th>\n",
       "      <td>2023-10-12</td>\n",
       "      <td>58.0</td>\n",
       "    </tr>\n",
       "    <tr>\n",
       "      <th>3</th>\n",
       "      <td>2023-10-04</td>\n",
       "      <td>52.8</td>\n",
       "    </tr>\n",
       "    <tr>\n",
       "      <th>4</th>\n",
       "      <td>2023-01-04</td>\n",
       "      <td>48.0</td>\n",
       "    </tr>\n",
       "    <tr>\n",
       "      <th>5</th>\n",
       "      <td>2023-10-08</td>\n",
       "      <td>45.4</td>\n",
       "    </tr>\n",
       "    <tr>\n",
       "      <th>6</th>\n",
       "      <td>2023-10-07</td>\n",
       "      <td>38.4</td>\n",
       "    </tr>\n",
       "    <tr>\n",
       "      <th>9</th>\n",
       "      <td>2023-05-05</td>\n",
       "      <td>34.0</td>\n",
       "    </tr>\n",
       "    <tr>\n",
       "      <th>10</th>\n",
       "      <td>2023-10-17</td>\n",
       "      <td>31.2</td>\n",
       "    </tr>\n",
       "    <tr>\n",
       "      <th>11</th>\n",
       "      <td>2023-08-09</td>\n",
       "      <td>30.2</td>\n",
       "    </tr>\n",
       "    <tr>\n",
       "      <th>12</th>\n",
       "      <td>2023-08-25</td>\n",
       "      <td>29.2</td>\n",
       "    </tr>\n",
       "    <tr>\n",
       "      <th>13</th>\n",
       "      <td>2023-10-27</td>\n",
       "      <td>27.6</td>\n",
       "    </tr>\n",
       "    <tr>\n",
       "      <th>14</th>\n",
       "      <td>2023-10-13</td>\n",
       "      <td>25.4</td>\n",
       "    </tr>\n",
       "    <tr>\n",
       "      <th>15</th>\n",
       "      <td>2023-04-18</td>\n",
       "      <td>25.2</td>\n",
       "    </tr>\n",
       "    <tr>\n",
       "      <th>16</th>\n",
       "      <td>2023-10-16</td>\n",
       "      <td>23.6</td>\n",
       "    </tr>\n",
       "    <tr>\n",
       "      <th>17</th>\n",
       "      <td>2023-07-11</td>\n",
       "      <td>23.2</td>\n",
       "    </tr>\n",
       "    <tr>\n",
       "      <th>18</th>\n",
       "      <td>2023-09-02</td>\n",
       "      <td>22.8</td>\n",
       "    </tr>\n",
       "    <tr>\n",
       "      <th>20</th>\n",
       "      <td>2023-03-10</td>\n",
       "      <td>22.6</td>\n",
       "    </tr>\n",
       "    <tr>\n",
       "      <th>21</th>\n",
       "      <td>2023-04-14</td>\n",
       "      <td>22.6</td>\n",
       "    </tr>\n",
       "    <tr>\n",
       "      <th>22</th>\n",
       "      <td>2023-02-10</td>\n",
       "      <td>21.0</td>\n",
       "    </tr>\n",
       "    <tr>\n",
       "      <th>23</th>\n",
       "      <td>2023-08-12</td>\n",
       "      <td>20.8</td>\n",
       "    </tr>\n",
       "  </tbody>\n",
       "</table>\n",
       "</div>"
      ],
      "text/plain": [
       "    timestamp  precipitacao\n",
       "1  2023-10-29          63.2\n",
       "2  2023-10-12          58.0\n",
       "3  2023-10-04          52.8\n",
       "4  2023-01-04          48.0\n",
       "5  2023-10-08          45.4\n",
       "6  2023-10-07          38.4\n",
       "9  2023-05-05          34.0\n",
       "10 2023-10-17          31.2\n",
       "11 2023-08-09          30.2\n",
       "12 2023-08-25          29.2\n",
       "13 2023-10-27          27.6\n",
       "14 2023-10-13          25.4\n",
       "15 2023-04-18          25.2\n",
       "16 2023-10-16          23.6\n",
       "17 2023-07-11          23.2\n",
       "18 2023-09-02          22.8\n",
       "20 2023-03-10          22.6\n",
       "21 2023-04-14          22.6\n",
       "22 2023-02-10          21.0\n",
       "23 2023-08-12          20.8"
      ]
     },
     "execution_count": 45,
     "metadata": {},
     "output_type": "execute_result"
    }
   ],
   "source": [
    "months_list = [1, 2, 3, 4, 5, 6, 7, 8, 9, 10] # Jan-Out\n",
    "\n",
    "# Agrupar por dia (D), somando os valores de precipitação\n",
    "df_result = (df.groupby(pd.Grouper(key='timestamp', axis=0, freq='D'))\n",
    "             .sum(numeric_only=True)\n",
    "             .sort_values(by=['precipitacao'], ascending=False)\n",
    "             .reset_index()\n",
    "             .copy())\n",
    "\n",
    "# Filtra somente os meses em 'months_list'\n",
    "df_result = df_result[df_result['timestamp']\n",
    "                      .dt.month\n",
    "                      .isin(months_list)\n",
    "                      .copy()]\n",
    "\n",
    "# Os dias mais chuvosos (mm/dia) da estação A807 - Curitiba\n",
    "df_result.head(20)"
   ]
  },
  {
   "cell_type": "markdown",
   "metadata": {},
   "source": [
    "## Lista de dias chuvosos"
   ]
  },
  {
   "cell_type": "code",
   "execution_count": 54,
   "metadata": {},
   "outputs": [
    {
     "name": "stdout",
     "output_type": "stream",
     "text": [
      "Número de dias chuvosos (Jan-Out): 107\n"
     ]
    },
    {
     "data": {
      "text/plain": [
       "['2023-01-02', '2023-01-03', '2023-01-10', '2023-01-12', '2023-01-13']"
      ]
     },
     "metadata": {},
     "output_type": "display_data"
    }
   ],
   "source": [
    "data_path = '../data/inmet'\n",
    "months_list = list(np.arange(1, 11)) # Jan-Out\n",
    "threshold = 50 # Somente precipitação (mm/dia) acima do limite\n",
    "\n",
    "# Obtém os dias mais chuvosos\n",
    "date_list = get_rainy_days(data_path, months_list, threshold)\n",
    "\n",
    "print(f\"Número de dias chuvosos (Jan-Out): {len(date_list)}\")\n",
    "display(date_list[0:5])"
   ]
  },
  {
   "cell_type": "code",
   "execution_count": 55,
   "metadata": {},
   "outputs": [
    {
     "name": "stdout",
     "output_type": "stream",
     "text": [
      "Número de dias chuvosos (Nov): 14\n"
     ]
    },
    {
     "data": {
      "text/plain": [
       "['2023-11-02', '2023-11-03', '2023-11-09', '2023-11-11', '2023-11-12']"
      ]
     },
     "metadata": {},
     "output_type": "display_data"
    }
   ],
   "source": [
    "data_path = '../data/inmet'\n",
    "months_list = [11] # Nov\n",
    "threshold = 50 # Somente precipitação (mm/dia) acima do limite\n",
    "\n",
    "# Obtém os dias mais chuvosos\n",
    "date_list = get_rainy_days(data_path, months_list, threshold)\n",
    "\n",
    "print(f\"Número de dias chuvosos (Nov): {len(date_list)}\")\n",
    "display(date_list[0:5])"
   ]
  }
 ],
 "metadata": {
  "kernelspec": {
   "display_name": "cid",
   "language": "python",
   "name": "python3"
  },
  "language_info": {
   "codemirror_mode": {
    "name": "ipython",
    "version": 3
   },
   "file_extension": ".py",
   "mimetype": "text/x-python",
   "name": "python",
   "nbconvert_exporter": "python",
   "pygments_lexer": "ipython3",
   "version": "3.10.9"
  }
 },
 "nbformat": 4,
 "nbformat_minor": 2
}
