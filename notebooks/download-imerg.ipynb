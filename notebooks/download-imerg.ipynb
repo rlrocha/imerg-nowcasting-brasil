{
 "cells": [
  {
   "cell_type": "markdown",
   "metadata": {},
   "source": [
    "# Download dos dados IMERG"
   ]
  },
  {
   "cell_type": "markdown",
   "metadata": {},
   "source": [
    "## Bibliotecas"
   ]
  },
  {
   "cell_type": "code",
   "execution_count": 1,
   "metadata": {},
   "outputs": [],
   "source": [
    "import sys\n",
    "sys.path.append('../src/') # Add src to path"
   ]
  },
  {
   "cell_type": "code",
   "execution_count": 2,
   "metadata": {},
   "outputs": [],
   "source": [
    "import numpy as np"
   ]
  },
  {
   "cell_type": "code",
   "execution_count": 3,
   "metadata": {},
   "outputs": [],
   "source": [
    "from data.inmet import get_rainy_days\n",
    "from data.imerg import get_files, download_data"
   ]
  },
  {
   "cell_type": "markdown",
   "metadata": {},
   "source": [
    "## Obtém dias chuvosos"
   ]
  },
  {
   "cell_type": "code",
   "execution_count": 4,
   "metadata": {},
   "outputs": [
    {
     "name": "stdout",
     "output_type": "stream",
     "text": [
      "Número de dias chuvosos (Jan-Out): 107\n"
     ]
    },
    {
     "data": {
      "text/plain": [
       "['2023-01-02', '2023-01-03', '2023-01-10', '2023-01-12', '2023-01-13']"
      ]
     },
     "metadata": {},
     "output_type": "display_data"
    }
   ],
   "source": [
    "data_path = '../data/inmet'\n",
    "months_list = list(np.arange(1, 11)) # Jan-Out\n",
    "threshold = 50 # Somente precipitação (mm/dia) acima do limite\n",
    "\n",
    "# Obtém os dias mais chuvosos\n",
    "date_training_list = get_rainy_days(data_path, months_list, threshold)\n",
    "\n",
    "print(f\"Número de dias chuvosos (Jan-Out): {len(date_training_list)}\")\n",
    "display(date_training_list[0:5])"
   ]
  },
  {
   "cell_type": "code",
   "execution_count": 5,
   "metadata": {},
   "outputs": [
    {
     "name": "stdout",
     "output_type": "stream",
     "text": [
      "Número de dias chuvosos (Nov): 14\n"
     ]
    },
    {
     "data": {
      "text/plain": [
       "['2023-11-02', '2023-11-03', '2023-11-09', '2023-11-11', '2023-11-12']"
      ]
     },
     "metadata": {},
     "output_type": "display_data"
    }
   ],
   "source": [
    "data_path = '../data/inmet'\n",
    "months_list = [11] # Nov\n",
    "threshold = 50 # Somente precipitação (mm/dia) acima do limite\n",
    "\n",
    "# Obtém os dias mais chuvosos\n",
    "date_test_list = get_rainy_days(data_path, months_list, threshold)\n",
    "\n",
    "print(f\"Número de dias chuvosos (Nov): {len(date_test_list)}\")\n",
    "display(date_test_list[0:5])"
   ]
  },
  {
   "cell_type": "markdown",
   "metadata": {},
   "source": [
    "## Verificando o total de arquivos"
   ]
  },
  {
   "cell_type": "code",
   "execution_count": 6,
   "metadata": {},
   "outputs": [
    {
     "name": "stdout",
     "output_type": "stream",
     "text": [
      "Número total de arquivos entre Jan-Out: 14592\n"
     ]
    }
   ],
   "source": [
    "# Lista de arquivos de treinamento\n",
    "file_path = '../data/subset_GPM_3IMERGHHE_06_20231207_114103_.txt'\n",
    "\n",
    "training_files = get_files(file_path)\n",
    "\n",
    "print(f\"Número total de arquivos entre Jan-Out: {len(training_files)}\")"
   ]
  },
  {
   "cell_type": "code",
   "execution_count": 7,
   "metadata": {},
   "outputs": [
    {
     "name": "stdout",
     "output_type": "stream",
     "text": [
      "Número total de arquivos em Nov: 1432\n"
     ]
    }
   ],
   "source": [
    "# Lista de arquivos de teste\n",
    "file_path = '../data/subset_GPM_3IMERGHHE_06_20231202_141130_.txt'\n",
    "\n",
    "test_files = get_files(file_path)\n",
    "\n",
    "print(f\"Número total de arquivos em Nov: {len(test_files)}\")"
   ]
  },
  {
   "cell_type": "markdown",
   "metadata": {},
   "source": [
    "## Download"
   ]
  },
  {
   "cell_type": "code",
   "execution_count": null,
   "metadata": {},
   "outputs": [],
   "source": [
    "training_file_path = '../data/subset_GPM_3IMERGHHE_06_20231207_114103_.txt'\n",
    "training_data_path = '../data/imerg/training/'\n",
    "\n",
    "download_data(training_file_path, training_data_path, date_training_list)"
   ]
  },
  {
   "cell_type": "code",
   "execution_count": null,
   "metadata": {},
   "outputs": [],
   "source": [
    "test_file_path = '../data/subset_GPM_3IMERGHHE_06_20231202_141130_.txt'\n",
    "test_data_path = '../data/imerg/test/'\n",
    "\n",
    "download_data(test_file_path, test_data_path, date_training_list)"
   ]
  }
 ],
 "metadata": {
  "kernelspec": {
   "display_name": "cid",
   "language": "python",
   "name": "python3"
  },
  "language_info": {
   "codemirror_mode": {
    "name": "ipython",
    "version": 3
   },
   "file_extension": ".py",
   "mimetype": "text/x-python",
   "name": "python",
   "nbconvert_exporter": "python",
   "pygments_lexer": "ipython3",
   "version": "3.10.9"
  }
 },
 "nbformat": 4,
 "nbformat_minor": 2
}
